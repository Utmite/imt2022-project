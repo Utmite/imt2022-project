{
 "cells": [
  {
   "cell_type": "markdown",
   "metadata": {},
   "source": [
    "# Proyecto IMT2200 Grupo11\n",
    "## Integrantes:\n",
    "- Benjamin Vasquez"
   ]
  },
  {
   "cell_type": "markdown",
   "metadata": {},
   "source": [
    "## Datos Bases Para todas las preguntas"
   ]
  },
  {
   "cell_type": "code",
   "execution_count": 1,
   "metadata": {},
   "outputs": [],
   "source": [
    "#Librerias a usar\n",
    "import pandas as pd\n",
    "import seaborn as sns\n",
    "import matplotlib.pyplot as plt\n",
    "import numpy as np\n",
    "import geopandas as gpd"
   ]
  },
  {
   "cell_type": "code",
   "execution_count": 2,
   "metadata": {},
   "outputs": [],
   "source": [
    "df_censo = pd.read_csv('../database/Cantidad-de-Personas-por-Sexo-y-Edad.csv', sep=\";\")\n",
    "df_farmacias = pd.read_csv(\"../database/2.-Farmacias-Chile-07.2023.csv\", sep=\";\", encoding=\"utf-8\")\n",
    "df_hospitales = pd.read_excel(\"../database/Establecimientos_ChileDEIS_MINSAL 03-11-2023.xlsx\", sheet_name=\"Establecimientos Vigentes\")"
   ]
  },
  {
   "cell_type": "code",
   "execution_count": 3,
   "metadata": {},
   "outputs": [
    {
     "name": "stderr",
     "output_type": "stream",
     "text": [
      "C:\\Users\\56961\\AppData\\Local\\Temp\\ipykernel_29528\\3676604115.py:16: FutureWarning: The default value of regex will change from True to False in a future version. In addition, single character regular expressions will *not* be treated as literal strings when regex=True.\n",
      "  df_censo[\"hombres\"] = df_censo[\"hombres\"].str.replace(\".\", \"\").astype(\"int\")\n",
      "C:\\Users\\56961\\AppData\\Local\\Temp\\ipykernel_29528\\3676604115.py:17: FutureWarning: The default value of regex will change from True to False in a future version. In addition, single character regular expressions will *not* be treated as literal strings when regex=True.\n",
      "  df_censo[\"mujeres\"] = df_censo[\"mujeres\"].str.replace(\".\", \"\").astype(\"int\")\n",
      "C:\\Users\\56961\\AppData\\Local\\Temp\\ipykernel_29528\\3676604115.py:18: FutureWarning: The default value of regex will change from True to False in a future version. In addition, single character regular expressions will *not* be treated as literal strings when regex=True.\n",
      "  df_censo[\"total\"] = df_censo[\"total\"].str.replace(\".\", \"\").astype(\"int\")\n"
     ]
    }
   ],
   "source": [
    "def modificar_nombre_columna(nombre: str):\n",
    "    nombre = nombre.strip()  \n",
    "    nombre = nombre.lower() \n",
    "    nombre = nombre.replace(\" \", \"_\")\n",
    "    nombre = nombre.replace(\"\\xa0\", \"_\")\n",
    "    return nombre\n",
    "\n",
    "nuevos_nombres = {columna: modificar_nombre_columna(columna) for columna in df_censo.columns}\n",
    "df_censo.rename(columns=nuevos_nombres, inplace=True)\n",
    "df_censo.columns\n",
    "\n",
    "df_censo[\"código_región\"] = pd.to_numeric(df_censo[\"código_región\"], errors=\"coerce\")\n",
    "df_censo[\"código_provincia\"] = pd.to_numeric(df_censo[\"código_provincia\"], errors=\"coerce\")\n",
    "df_censo[\"código_comuna\"] = pd.to_numeric(df_censo[\"código_comuna\"], errors=\"coerce\")\n",
    "df_censo[\"edad\"] = df_censo[\"edad\"].astype(\"category\")\n",
    "df_censo[\"hombres\"] = df_censo[\"hombres\"].str.replace(\".\", \"\").astype(\"int\")\n",
    "df_censo[\"mujeres\"] = df_censo[\"mujeres\"].str.replace(\".\", \"\").astype(\"int\")\n",
    "df_censo[\"total\"] = df_censo[\"total\"].str.replace(\".\", \"\").astype(\"int\")"
   ]
  },
  {
   "cell_type": "code",
   "execution_count": 4,
   "metadata": {},
   "outputs": [],
   "source": [
    "df_hospitales.columns = df_hospitales.loc[0,:]\n",
    "df_hospitales.drop(0, inplace=True)\n",
    "df_hospitales.drop(columns=[\"Código Antiguo \", \"Código  Madre Antiguo\", \"Código Madre Nuevo\", \"Código  Madre Antiguo\", \"Fecha de Incorporación a la base o cambios\", \"Teléfono\", \"Fecha Inicio Funcionamiento\", \"Vía\", \"Certificación \", \"Número\", \"Dirección\", \"Clasificcion Tipo de SAPU\", \"Tipo Establecimiento (Unidad)\", \"Dependencia Administrativa\"], inplace=True)"
   ]
  },
  {
   "cell_type": "code",
   "execution_count": 5,
   "metadata": {},
   "outputs": [],
   "source": [
    "df_hospitales.replace([\"No Aplica\", \"Pendiente\", \"Completar\", \"No Aplica\", \"Por confirmar\", \"no Aplica\", \"Pendiente\", \"no aplica\", \"No Aplica\"], np.NaN, inplace=True)\n",
    "\n",
    "df_hospitales[\"Código Vigente\"] = df_hospitales[\"Código Vigente\"].astype(\"int\")\n",
    "\n",
    "df_hospitales[\"Código Región\"] = df_hospitales[\"Código Región\"].astype(\"int\")\n",
    "\n",
    "df_hospitales[\"Código Dependencia Jerárquica (SEREMI / Servicio de Salud)\"] = df_hospitales[\"Código Dependencia Jerárquica (SEREMI / Servicio de Salud)\"].astype(\"float\")\n",
    "\n",
    "df_hospitales[\"Pertenencia al SNSS\"] = df_hospitales[\"Pertenencia al SNSS\"].map(lambda x: x == 'Perteneciente' or x == True)\n",
    "df_hospitales[\"Pertenencia al SNSS\"] = df_hospitales[\"Pertenencia al SNSS\"].astype(\"bool\")\n",
    "\n",
    "df_hospitales[\"Nivel de Atención\"] = df_hospitales[\"Nivel de Atención\"].astype(\"category\")\n",
    "\n",
    "df_hospitales[\"Tiene Servicio de Urgencia\"] = df_hospitales[\"Tiene Servicio de Urgencia\"].map(lambda x: x == 'SI' or x == True)\n",
    "df_hospitales[\"Tiene Servicio de Urgencia\"] = df_hospitales[\"Tiene Servicio de Urgencia\"].astype(\"bool\")\n",
    "df_hospitales[\"Tipo de Urgencia \"] = df_hospitales[\"Tipo de Urgencia \"].astype(\"category\")\n",
    "df_hospitales[\"Tipo de Prestador Sistema de Salud\"] = df_hospitales[\"Tipo de Prestador Sistema de Salud\"].astype(\"category\")\n",
    "\n",
    "df_hospitales[\"Nivel de Complejidad\"] = df_hospitales[\"Nivel de Complejidad\"].astype(\"category\")\n",
    "df_hospitales[\"Tipo de Atención \"] = df_hospitales[\"Tipo de Atención \"].astype(\"category\")"
   ]
  },
  {
   "cell_type": "code",
   "execution_count": 6,
   "metadata": {},
   "outputs": [],
   "source": [
    "df_hospitales = df_hospitales[df_hospitales['Estado de Funcionamiento'].str.contains(\"Vigente\", case=False, na=False)]\n",
    "df_hospitales.drop(columns=\"Estado de Funcionamiento\", inplace=True)"
   ]
  },
  {
   "cell_type": "code",
   "execution_count": 7,
   "metadata": {},
   "outputs": [
    {
     "name": "stdout",
     "output_type": "stream",
     "text": [
      "<class 'pandas.core.frame.DataFrame'>\n",
      "Int64Index: 4525 entries, 1 to 4526\n",
      "Data columns (total 18 columns):\n",
      " #   Column                                                      Non-Null Count  Dtype   \n",
      "---  ------                                                      --------------  -----   \n",
      " 0   código_vigente                                              4525 non-null   int32   \n",
      " 1   código_región                                               4525 non-null   int32   \n",
      " 2   nombre_región                                               4525 non-null   object  \n",
      " 3   código_dependencia_jerárquica_(seremi_/_servicio_de_salud)  4482 non-null   float64 \n",
      " 4   nombre_dependencia_jerárquica_(seremi_/_servicio_de_salud)  4483 non-null   object  \n",
      " 5   pertenencia_al_snss                                         4525 non-null   bool    \n",
      " 6   ámbito_de_funcionamiento                                    4525 non-null   object  \n",
      " 7   nombre_oficial                                              4525 non-null   object  \n",
      " 8   nivel_de_atención                                           3676 non-null   category\n",
      " 9   código_comuna                                               4525 non-null   int32   \n",
      " 10  nombre_comuna                                               4525 non-null   object  \n",
      " 11  tiene_servicio_de_urgencia                                  4525 non-null   bool    \n",
      " 12  tipo_de_urgencia                                            742 non-null    category\n",
      " 13  latitud                                                     4450 non-null   float64 \n",
      " 14  longitud                                                    4448 non-null   float64 \n",
      " 15  tipo_de_prestador_sistema_de_salud                          4513 non-null   category\n",
      " 16  nivel_de_complejidad                                        3898 non-null   category\n",
      " 17  tipo_de_atención                                            4117 non-null   category\n",
      "dtypes: bool(2), category(5), float64(3), int32(3), object(5)\n",
      "memory usage: 403.2+ KB\n"
     ]
    }
   ],
   "source": [
    "\n",
    "nuevos_nombres = {columna: modificar_nombre_columna(columna) for columna in df_hospitales.columns}\n",
    "df_hospitales.rename(columns=nuevos_nombres, inplace=True)\n",
    "df_hospitales.rename(columns={\"latitud______[grados_decimales]\": \"latitud\", \"longitud_[grados_decimales]\":\"longitud\"}, inplace=True)\n",
    "df_hospitales[\"código_región\"] = df_hospitales[\"código_región\"].astype(\"int\")\n",
    "df_hospitales[\"código_comuna\"] = df_hospitales[\"código_comuna\"].astype(\"int\")\n",
    "df_hospitales[\"nombre_comuna\"] = df_hospitales[\"nombre_comuna\"].str.upper()\n",
    "df_hospitales.info()\n"
   ]
  },
  {
   "cell_type": "code",
   "execution_count": 8,
   "metadata": {},
   "outputs": [],
   "source": [
    "comunas_ñuble = {16109: 'YUNGAY',\n",
    " 16105: 'PEMUCO',\n",
    " 16104: 'EL CARMEN',\n",
    " 16107: 'QUILLÓN',\n",
    " 16108: 'SAN IGNACIO',\n",
    " 16106: 'PINTO',\n",
    " 16102: 'BULNES',\n",
    " 16302: 'COIHUECO',\n",
    " 16103: 'CHILLÁN VIEJO',\n",
    " 16206: 'RÁNQUIL',\n",
    " 16304: 'SAN FABIÁN',\n",
    " 16101: 'CHILLÁN',\n",
    " 16205: 'PORTEZUELO',\n",
    " 16203: 'COELEMU',\n",
    " 16305: 'SAN NICOLÁS',\n",
    " 16301: 'SAN CARLOS',\n",
    " 16207: 'TREGUACO',\n",
    " 16204: 'NINHUE',\n",
    " 16303: 'ÑIQUÉN',\n",
    " 16201: 'QUIRIHUE',\n",
    " 16202: 'COBQUECURA'}\n",
    "comunas_ñuble = {v: k for k, v in comunas_ñuble.items()}\n",
    "\n",
    "\n",
    "provincias_ñuble = {\n",
    "    161: \"DIGUILLÍN\",\n",
    "    162: \"ITATA\",\n",
    "    163: \"PUNILLA\"\n",
    "}\n"
   ]
  },
  {
   "cell_type": "code",
   "execution_count": 9,
   "metadata": {},
   "outputs": [
    {
     "name": "stderr",
     "output_type": "stream",
     "text": [
      "C:\\Users\\56961\\AppData\\Local\\Temp\\ipykernel_29528\\4203659101.py:2: FutureWarning: The default value of regex will change from True to False in a future version.\n",
      "  d[\"nombre_comuna\"] = d[\"nombre_comuna\"].str.replace(\" *\", \"\")\n",
      "C:\\Users\\56961\\AppData\\Local\\Temp\\ipykernel_29528\\4203659101.py:2: SettingWithCopyWarning: \n",
      "A value is trying to be set on a copy of a slice from a DataFrame.\n",
      "Try using .loc[row_indexer,col_indexer] = value instead\n",
      "\n",
      "See the caveats in the documentation: https://pandas.pydata.org/pandas-docs/stable/user_guide/indexing.html#returning-a-view-versus-a-copy\n",
      "  d[\"nombre_comuna\"] = d[\"nombre_comuna\"].str.replace(\" *\", \"\")\n",
      "C:\\Users\\56961\\AppData\\Local\\Temp\\ipykernel_29528\\4203659101.py:4: SettingWithCopyWarning: \n",
      "A value is trying to be set on a copy of a slice from a DataFrame.\n",
      "Try using .loc[row_indexer,col_indexer] = value instead\n",
      "\n",
      "See the caveats in the documentation: https://pandas.pydata.org/pandas-docs/stable/user_guide/indexing.html#returning-a-view-versus-a-copy\n",
      "  d[\"código_comuna\"] = d[\"nombre_comuna\"].map(comunas_ñuble).astype(\"string\")\n",
      "C:\\Users\\56961\\AppData\\Local\\Temp\\ipykernel_29528\\4203659101.py:5: SettingWithCopyWarning: \n",
      "A value is trying to be set on a copy of a slice from a DataFrame.\n",
      "Try using .loc[row_indexer,col_indexer] = value instead\n",
      "\n",
      "See the caveats in the documentation: https://pandas.pydata.org/pandas-docs/stable/user_guide/indexing.html#returning-a-view-versus-a-copy\n",
      "  d[\"nombre_región\"] = \"ÑUBLE\"\n",
      "C:\\Users\\56961\\AppData\\Local\\Temp\\ipykernel_29528\\4203659101.py:6: SettingWithCopyWarning: \n",
      "A value is trying to be set on a copy of a slice from a DataFrame.\n",
      "Try using .loc[row_indexer,col_indexer] = value instead\n",
      "\n",
      "See the caveats in the documentation: https://pandas.pydata.org/pandas-docs/stable/user_guide/indexing.html#returning-a-view-versus-a-copy\n",
      "  d[\"código_región\"] = 16\n",
      "C:\\Users\\56961\\AppData\\Local\\Temp\\ipykernel_29528\\4203659101.py:7: SettingWithCopyWarning: \n",
      "A value is trying to be set on a copy of a slice from a DataFrame.\n",
      "Try using .loc[row_indexer,col_indexer] = value instead\n",
      "\n",
      "See the caveats in the documentation: https://pandas.pydata.org/pandas-docs/stable/user_guide/indexing.html#returning-a-view-versus-a-copy\n",
      "  d[\"código_provincia\"] = d[\"código_comuna\"].str.slice(0,3)\n"
     ]
    },
    {
     "ename": "TypeError",
     "evalue": "int() argument must be a string, a bytes-like object or a number, not 'NAType'",
     "output_type": "error",
     "traceback": [
      "\u001b[1;31m---------------------------------------------------------------------------\u001b[0m",
      "\u001b[1;31mTypeError\u001b[0m                                 Traceback (most recent call last)",
      "Input \u001b[1;32mIn [9]\u001b[0m, in \u001b[0;36m<cell line: 8>\u001b[1;34m()\u001b[0m\n\u001b[0;32m      6\u001b[0m d[\u001b[38;5;124m\"\u001b[39m\u001b[38;5;124mcódigo_región\u001b[39m\u001b[38;5;124m\"\u001b[39m] \u001b[38;5;241m=\u001b[39m \u001b[38;5;241m16\u001b[39m\n\u001b[0;32m      7\u001b[0m d[\u001b[38;5;124m\"\u001b[39m\u001b[38;5;124mcódigo_provincia\u001b[39m\u001b[38;5;124m\"\u001b[39m] \u001b[38;5;241m=\u001b[39m d[\u001b[38;5;124m\"\u001b[39m\u001b[38;5;124mcódigo_comuna\u001b[39m\u001b[38;5;124m\"\u001b[39m]\u001b[38;5;241m.\u001b[39mstr\u001b[38;5;241m.\u001b[39mslice(\u001b[38;5;241m0\u001b[39m,\u001b[38;5;241m3\u001b[39m)\n\u001b[1;32m----> 8\u001b[0m d[\u001b[38;5;124m\"\u001b[39m\u001b[38;5;124mcódigo_provincia\u001b[39m\u001b[38;5;124m\"\u001b[39m] \u001b[38;5;241m=\u001b[39m \u001b[43md\u001b[49m\u001b[43m[\u001b[49m\u001b[38;5;124;43m\"\u001b[39;49m\u001b[38;5;124;43mcódigo_provincia\u001b[39;49m\u001b[38;5;124;43m\"\u001b[39;49m\u001b[43m]\u001b[49m\u001b[38;5;241;43m.\u001b[39;49m\u001b[43mastype\u001b[49m\u001b[43m(\u001b[49m\u001b[38;5;124;43m\"\u001b[39;49m\u001b[38;5;124;43mint\u001b[39;49m\u001b[38;5;124;43m\"\u001b[39;49m\u001b[43m)\u001b[49m\n\u001b[0;32m      9\u001b[0m d[\u001b[38;5;124m\"\u001b[39m\u001b[38;5;124mnombre_provincia\u001b[39m\u001b[38;5;124m\"\u001b[39m] \u001b[38;5;241m=\u001b[39m d[\u001b[38;5;124m\"\u001b[39m\u001b[38;5;124mcódigo_provincia\u001b[39m\u001b[38;5;124m\"\u001b[39m]\u001b[38;5;241m.\u001b[39mmap(provincias_ñuble)\n",
      "File \u001b[1;32m~\\AppData\\Local\\Programs\\Python\\Python38\\lib\\site-packages\\pandas\\core\\generic.py:5920\u001b[0m, in \u001b[0;36mNDFrame.astype\u001b[1;34m(self, dtype, copy, errors)\u001b[0m\n\u001b[0;32m   5913\u001b[0m     results \u001b[38;5;241m=\u001b[39m [\n\u001b[0;32m   5914\u001b[0m         \u001b[38;5;28mself\u001b[39m\u001b[38;5;241m.\u001b[39miloc[:, i]\u001b[38;5;241m.\u001b[39mastype(dtype, copy\u001b[38;5;241m=\u001b[39mcopy)\n\u001b[0;32m   5915\u001b[0m         \u001b[38;5;28;01mfor\u001b[39;00m i \u001b[38;5;129;01min\u001b[39;00m \u001b[38;5;28mrange\u001b[39m(\u001b[38;5;28mlen\u001b[39m(\u001b[38;5;28mself\u001b[39m\u001b[38;5;241m.\u001b[39mcolumns))\n\u001b[0;32m   5916\u001b[0m     ]\n\u001b[0;32m   5918\u001b[0m \u001b[38;5;28;01melse\u001b[39;00m:\n\u001b[0;32m   5919\u001b[0m     \u001b[38;5;66;03m# else, only a single dtype is given\u001b[39;00m\n\u001b[1;32m-> 5920\u001b[0m     new_data \u001b[38;5;241m=\u001b[39m \u001b[38;5;28;43mself\u001b[39;49m\u001b[38;5;241;43m.\u001b[39;49m\u001b[43m_mgr\u001b[49m\u001b[38;5;241;43m.\u001b[39;49m\u001b[43mastype\u001b[49m\u001b[43m(\u001b[49m\u001b[43mdtype\u001b[49m\u001b[38;5;241;43m=\u001b[39;49m\u001b[43mdtype\u001b[49m\u001b[43m,\u001b[49m\u001b[43m \u001b[49m\u001b[43mcopy\u001b[49m\u001b[38;5;241;43m=\u001b[39;49m\u001b[43mcopy\u001b[49m\u001b[43m,\u001b[49m\u001b[43m \u001b[49m\u001b[43merrors\u001b[49m\u001b[38;5;241;43m=\u001b[39;49m\u001b[43merrors\u001b[49m\u001b[43m)\u001b[49m\n\u001b[0;32m   5921\u001b[0m     \u001b[38;5;28;01mreturn\u001b[39;00m \u001b[38;5;28mself\u001b[39m\u001b[38;5;241m.\u001b[39m_constructor(new_data)\u001b[38;5;241m.\u001b[39m__finalize__(\u001b[38;5;28mself\u001b[39m, method\u001b[38;5;241m=\u001b[39m\u001b[38;5;124m\"\u001b[39m\u001b[38;5;124mastype\u001b[39m\u001b[38;5;124m\"\u001b[39m)\n\u001b[0;32m   5923\u001b[0m \u001b[38;5;66;03m# GH 33113: handle empty frame or series\u001b[39;00m\n",
      "File \u001b[1;32m~\\AppData\\Local\\Programs\\Python\\Python38\\lib\\site-packages\\pandas\\core\\internals\\managers.py:419\u001b[0m, in \u001b[0;36mBaseBlockManager.astype\u001b[1;34m(self, dtype, copy, errors)\u001b[0m\n\u001b[0;32m    418\u001b[0m \u001b[38;5;28;01mdef\u001b[39;00m \u001b[38;5;21mastype\u001b[39m(\u001b[38;5;28mself\u001b[39m: T, dtype, copy: \u001b[38;5;28mbool\u001b[39m \u001b[38;5;241m=\u001b[39m \u001b[38;5;28;01mFalse\u001b[39;00m, errors: \u001b[38;5;28mstr\u001b[39m \u001b[38;5;241m=\u001b[39m \u001b[38;5;124m\"\u001b[39m\u001b[38;5;124mraise\u001b[39m\u001b[38;5;124m\"\u001b[39m) \u001b[38;5;241m-\u001b[39m\u001b[38;5;241m>\u001b[39m T:\n\u001b[1;32m--> 419\u001b[0m     \u001b[38;5;28;01mreturn\u001b[39;00m \u001b[38;5;28;43mself\u001b[39;49m\u001b[38;5;241;43m.\u001b[39;49m\u001b[43mapply\u001b[49m\u001b[43m(\u001b[49m\u001b[38;5;124;43m\"\u001b[39;49m\u001b[38;5;124;43mastype\u001b[39;49m\u001b[38;5;124;43m\"\u001b[39;49m\u001b[43m,\u001b[49m\u001b[43m \u001b[49m\u001b[43mdtype\u001b[49m\u001b[38;5;241;43m=\u001b[39;49m\u001b[43mdtype\u001b[49m\u001b[43m,\u001b[49m\u001b[43m \u001b[49m\u001b[43mcopy\u001b[49m\u001b[38;5;241;43m=\u001b[39;49m\u001b[43mcopy\u001b[49m\u001b[43m,\u001b[49m\u001b[43m \u001b[49m\u001b[43merrors\u001b[49m\u001b[38;5;241;43m=\u001b[39;49m\u001b[43merrors\u001b[49m\u001b[43m)\u001b[49m\n",
      "File \u001b[1;32m~\\AppData\\Local\\Programs\\Python\\Python38\\lib\\site-packages\\pandas\\core\\internals\\managers.py:304\u001b[0m, in \u001b[0;36mBaseBlockManager.apply\u001b[1;34m(self, f, align_keys, ignore_failures, **kwargs)\u001b[0m\n\u001b[0;32m    302\u001b[0m         applied \u001b[38;5;241m=\u001b[39m b\u001b[38;5;241m.\u001b[39mapply(f, \u001b[38;5;241m*\u001b[39m\u001b[38;5;241m*\u001b[39mkwargs)\n\u001b[0;32m    303\u001b[0m     \u001b[38;5;28;01melse\u001b[39;00m:\n\u001b[1;32m--> 304\u001b[0m         applied \u001b[38;5;241m=\u001b[39m \u001b[38;5;28;43mgetattr\u001b[39;49m\u001b[43m(\u001b[49m\u001b[43mb\u001b[49m\u001b[43m,\u001b[49m\u001b[43m \u001b[49m\u001b[43mf\u001b[49m\u001b[43m)\u001b[49m\u001b[43m(\u001b[49m\u001b[38;5;241;43m*\u001b[39;49m\u001b[38;5;241;43m*\u001b[39;49m\u001b[43mkwargs\u001b[49m\u001b[43m)\u001b[49m\n\u001b[0;32m    305\u001b[0m \u001b[38;5;28;01mexcept\u001b[39;00m (\u001b[38;5;167;01mTypeError\u001b[39;00m, \u001b[38;5;167;01mNotImplementedError\u001b[39;00m):\n\u001b[0;32m    306\u001b[0m     \u001b[38;5;28;01mif\u001b[39;00m \u001b[38;5;129;01mnot\u001b[39;00m ignore_failures:\n",
      "File \u001b[1;32m~\\AppData\\Local\\Programs\\Python\\Python38\\lib\\site-packages\\pandas\\core\\internals\\blocks.py:580\u001b[0m, in \u001b[0;36mBlock.astype\u001b[1;34m(self, dtype, copy, errors)\u001b[0m\n\u001b[0;32m    562\u001b[0m \u001b[38;5;124;03m\"\"\"\u001b[39;00m\n\u001b[0;32m    563\u001b[0m \u001b[38;5;124;03mCoerce to the new dtype.\u001b[39;00m\n\u001b[0;32m    564\u001b[0m \n\u001b[1;32m   (...)\u001b[0m\n\u001b[0;32m    576\u001b[0m \u001b[38;5;124;03mBlock\u001b[39;00m\n\u001b[0;32m    577\u001b[0m \u001b[38;5;124;03m\"\"\"\u001b[39;00m\n\u001b[0;32m    578\u001b[0m values \u001b[38;5;241m=\u001b[39m \u001b[38;5;28mself\u001b[39m\u001b[38;5;241m.\u001b[39mvalues\n\u001b[1;32m--> 580\u001b[0m new_values \u001b[38;5;241m=\u001b[39m \u001b[43mastype_array_safe\u001b[49m\u001b[43m(\u001b[49m\u001b[43mvalues\u001b[49m\u001b[43m,\u001b[49m\u001b[43m \u001b[49m\u001b[43mdtype\u001b[49m\u001b[43m,\u001b[49m\u001b[43m \u001b[49m\u001b[43mcopy\u001b[49m\u001b[38;5;241;43m=\u001b[39;49m\u001b[43mcopy\u001b[49m\u001b[43m,\u001b[49m\u001b[43m \u001b[49m\u001b[43merrors\u001b[49m\u001b[38;5;241;43m=\u001b[39;49m\u001b[43merrors\u001b[49m\u001b[43m)\u001b[49m\n\u001b[0;32m    582\u001b[0m new_values \u001b[38;5;241m=\u001b[39m maybe_coerce_values(new_values)\n\u001b[0;32m    583\u001b[0m newb \u001b[38;5;241m=\u001b[39m \u001b[38;5;28mself\u001b[39m\u001b[38;5;241m.\u001b[39mmake_block(new_values)\n",
      "File \u001b[1;32m~\\AppData\\Local\\Programs\\Python\\Python38\\lib\\site-packages\\pandas\\core\\dtypes\\cast.py:1292\u001b[0m, in \u001b[0;36mastype_array_safe\u001b[1;34m(values, dtype, copy, errors)\u001b[0m\n\u001b[0;32m   1289\u001b[0m     dtype \u001b[38;5;241m=\u001b[39m dtype\u001b[38;5;241m.\u001b[39mnumpy_dtype\n\u001b[0;32m   1291\u001b[0m \u001b[38;5;28;01mtry\u001b[39;00m:\n\u001b[1;32m-> 1292\u001b[0m     new_values \u001b[38;5;241m=\u001b[39m \u001b[43mastype_array\u001b[49m\u001b[43m(\u001b[49m\u001b[43mvalues\u001b[49m\u001b[43m,\u001b[49m\u001b[43m \u001b[49m\u001b[43mdtype\u001b[49m\u001b[43m,\u001b[49m\u001b[43m \u001b[49m\u001b[43mcopy\u001b[49m\u001b[38;5;241;43m=\u001b[39;49m\u001b[43mcopy\u001b[49m\u001b[43m)\u001b[49m\n\u001b[0;32m   1293\u001b[0m \u001b[38;5;28;01mexcept\u001b[39;00m (\u001b[38;5;167;01mValueError\u001b[39;00m, \u001b[38;5;167;01mTypeError\u001b[39;00m):\n\u001b[0;32m   1294\u001b[0m     \u001b[38;5;66;03m# e.g. astype_nansafe can fail on object-dtype of strings\u001b[39;00m\n\u001b[0;32m   1295\u001b[0m     \u001b[38;5;66;03m#  trying to convert to float\u001b[39;00m\n\u001b[0;32m   1296\u001b[0m     \u001b[38;5;28;01mif\u001b[39;00m errors \u001b[38;5;241m==\u001b[39m \u001b[38;5;124m\"\u001b[39m\u001b[38;5;124mignore\u001b[39m\u001b[38;5;124m\"\u001b[39m:\n",
      "File \u001b[1;32m~\\AppData\\Local\\Programs\\Python\\Python38\\lib\\site-packages\\pandas\\core\\dtypes\\cast.py:1234\u001b[0m, in \u001b[0;36mastype_array\u001b[1;34m(values, dtype, copy)\u001b[0m\n\u001b[0;32m   1230\u001b[0m     \u001b[38;5;28;01mreturn\u001b[39;00m values\n\u001b[0;32m   1232\u001b[0m \u001b[38;5;28;01mif\u001b[39;00m \u001b[38;5;129;01mnot\u001b[39;00m \u001b[38;5;28misinstance\u001b[39m(values, np\u001b[38;5;241m.\u001b[39mndarray):\n\u001b[0;32m   1233\u001b[0m     \u001b[38;5;66;03m# i.e. ExtensionArray\u001b[39;00m\n\u001b[1;32m-> 1234\u001b[0m     values \u001b[38;5;241m=\u001b[39m \u001b[43mvalues\u001b[49m\u001b[38;5;241;43m.\u001b[39;49m\u001b[43mastype\u001b[49m\u001b[43m(\u001b[49m\u001b[43mdtype\u001b[49m\u001b[43m,\u001b[49m\u001b[43m \u001b[49m\u001b[43mcopy\u001b[49m\u001b[38;5;241;43m=\u001b[39;49m\u001b[43mcopy\u001b[49m\u001b[43m)\u001b[49m\n\u001b[0;32m   1236\u001b[0m \u001b[38;5;28;01melse\u001b[39;00m:\n\u001b[0;32m   1237\u001b[0m     values \u001b[38;5;241m=\u001b[39m astype_nansafe(values, dtype, copy\u001b[38;5;241m=\u001b[39mcopy)\n",
      "File \u001b[1;32m~\\AppData\\Local\\Programs\\Python\\Python38\\lib\\site-packages\\pandas\\core\\arrays\\string_.py:446\u001b[0m, in \u001b[0;36mStringArray.astype\u001b[1;34m(self, dtype, copy)\u001b[0m\n\u001b[0;32m    443\u001b[0m     values[mask] \u001b[38;5;241m=\u001b[39m np\u001b[38;5;241m.\u001b[39mnan\n\u001b[0;32m    444\u001b[0m     \u001b[38;5;28;01mreturn\u001b[39;00m values\n\u001b[1;32m--> 446\u001b[0m \u001b[38;5;28;01mreturn\u001b[39;00m \u001b[38;5;28;43msuper\u001b[39;49m\u001b[43m(\u001b[49m\u001b[43m)\u001b[49m\u001b[38;5;241;43m.\u001b[39;49m\u001b[43mastype\u001b[49m\u001b[43m(\u001b[49m\u001b[43mdtype\u001b[49m\u001b[43m,\u001b[49m\u001b[43m \u001b[49m\u001b[43mcopy\u001b[49m\u001b[43m)\u001b[49m\n",
      "File \u001b[1;32m~\\AppData\\Local\\Programs\\Python\\Python38\\lib\\site-packages\\pandas\\core\\arrays\\base.py:584\u001b[0m, in \u001b[0;36mExtensionArray.astype\u001b[1;34m(self, dtype, copy)\u001b[0m\n\u001b[0;32m    581\u001b[0m     \u001b[38;5;28mcls\u001b[39m \u001b[38;5;241m=\u001b[39m dtype\u001b[38;5;241m.\u001b[39mconstruct_array_type()\n\u001b[0;32m    582\u001b[0m     \u001b[38;5;28;01mreturn\u001b[39;00m \u001b[38;5;28mcls\u001b[39m\u001b[38;5;241m.\u001b[39m_from_sequence(\u001b[38;5;28mself\u001b[39m, dtype\u001b[38;5;241m=\u001b[39mdtype, copy\u001b[38;5;241m=\u001b[39mcopy)\n\u001b[1;32m--> 584\u001b[0m \u001b[38;5;28;01mreturn\u001b[39;00m \u001b[43mnp\u001b[49m\u001b[38;5;241;43m.\u001b[39;49m\u001b[43marray\u001b[49m\u001b[43m(\u001b[49m\u001b[38;5;28;43mself\u001b[39;49m\u001b[43m,\u001b[49m\u001b[43m \u001b[49m\u001b[43mdtype\u001b[49m\u001b[38;5;241;43m=\u001b[39;49m\u001b[43mdtype\u001b[49m\u001b[43m,\u001b[49m\u001b[43m \u001b[49m\u001b[43mcopy\u001b[49m\u001b[38;5;241;43m=\u001b[39;49m\u001b[43mcopy\u001b[49m\u001b[43m)\u001b[49m\n",
      "File \u001b[1;32m~\\AppData\\Local\\Programs\\Python\\Python38\\lib\\site-packages\\pandas\\core\\arrays\\numpy_.py:129\u001b[0m, in \u001b[0;36mPandasArray.__array__\u001b[1;34m(self, dtype)\u001b[0m\n\u001b[0;32m    128\u001b[0m \u001b[38;5;28;01mdef\u001b[39;00m \u001b[38;5;21m__array__\u001b[39m(\u001b[38;5;28mself\u001b[39m, dtype: NpDtype \u001b[38;5;241m|\u001b[39m \u001b[38;5;28;01mNone\u001b[39;00m \u001b[38;5;241m=\u001b[39m \u001b[38;5;28;01mNone\u001b[39;00m) \u001b[38;5;241m-\u001b[39m\u001b[38;5;241m>\u001b[39m np\u001b[38;5;241m.\u001b[39mndarray:\n\u001b[1;32m--> 129\u001b[0m     \u001b[38;5;28;01mreturn\u001b[39;00m \u001b[43mnp\u001b[49m\u001b[38;5;241;43m.\u001b[39;49m\u001b[43masarray\u001b[49m\u001b[43m(\u001b[49m\u001b[38;5;28;43mself\u001b[39;49m\u001b[38;5;241;43m.\u001b[39;49m\u001b[43m_ndarray\u001b[49m\u001b[43m,\u001b[49m\u001b[43m \u001b[49m\u001b[43mdtype\u001b[49m\u001b[38;5;241;43m=\u001b[39;49m\u001b[43mdtype\u001b[49m\u001b[43m)\u001b[49m\n",
      "\u001b[1;31mTypeError\u001b[0m: int() argument must be a string, a bytes-like object or a number, not 'NAType'"
     ]
    }
   ],
   "source": [
    "d = df_censo[df_censo[\"nombre_provincia\"].str.contains(\"ÑUBLE\")]\n",
    "d[\"nombre_comuna\"] = d[\"nombre_comuna\"].str.replace(\" *\", \"\")\n",
    "d\n",
    "d[\"código_comuna\"] = d[\"nombre_comuna\"].map(comunas_ñuble).astype(\"string\")\n",
    "d[\"nombre_región\"] = \"ÑUBLE\"\n",
    "d[\"código_región\"] = 16\n",
    "d[\"código_provincia\"] = d[\"código_comuna\"].str.slice(0,3)\n",
    "d[\"código_provincia\"] = d[\"código_provincia\"].astype(\"int\")\n",
    "d[\"nombre_provincia\"] = d[\"código_provincia\"].map(provincias_ñuble)\n",
    "\n",
    "\n",
    "\n"
   ]
  },
  {
   "cell_type": "code",
   "execution_count": null,
   "metadata": {},
   "outputs": [],
   "source": [
    "df_censo.drop(df_censo[df_censo[\"nombre_provincia\"].str.contains(\"ÑUBLE\")].index, inplace=True)\n"
   ]
  },
  {
   "cell_type": "code",
   "execution_count": null,
   "metadata": {},
   "outputs": [],
   "source": [
    "df_censo = pd.concat([df_censo, d], ignore_index=True)\n",
    "df_censo\n"
   ]
  },
  {
   "cell_type": "code",
   "execution_count": null,
   "metadata": {},
   "outputs": [],
   "source": [
    "df_censo.sort_values(by=\"orden\", inplace=True)"
   ]
  },
  {
   "cell_type": "code",
   "execution_count": null,
   "metadata": {},
   "outputs": [],
   "source": [
    "codigo_comuna_a_provincia = dict(zip(df_censo['código_comuna'], df_censo['código_provincia']))\n",
    "codigo_comuna_a_provincia = {int(comuna): int(provincia) for comuna, provincia in codigo_comuna_a_provincia.items() if not pd.isna(provincia)}\n",
    "\n",
    "codigo_comuna_a_region = dict(zip(df_censo['código_comuna'], df_censo['código_región']))\n",
    "codigo_comuna_a_region = {int(comuna): int(region) for comuna, region in codigo_comuna_a_region.items() if not pd.isna(region)}\n"
   ]
  },
  {
   "cell_type": "code",
   "execution_count": null,
   "metadata": {},
   "outputs": [],
   "source": [
    "df_hospitales.loc[:, \"código_provincia\"] = df_hospitales[\"código_comuna\"].map(codigo_comuna_a_provincia)\n",
    "df_hospitales[\"código_provincia\"] = df_hospitales[\"código_provincia\"].astype(\"int\")"
   ]
  },
  {
   "cell_type": "code",
   "execution_count": null,
   "metadata": {},
   "outputs": [],
   "source": [
    "nuevos_nombres = {columna: modificar_nombre_columna(columna) for columna in df_farmacias.columns}\n",
    "df_farmacias.rename(columns=nuevos_nombres, inplace=True)\n"
   ]
  },
  {
   "cell_type": "code",
   "execution_count": null,
   "metadata": {},
   "outputs": [],
   "source": [
    "df_farmacias.drop(columns=[\"empresa_farmacéutica\", \"empresa_rut\", \"empresa_razón_social\", \"nro_resolución_apertura\", \"número\", \"dirección\", \"fecha_res.\"], inplace=True)"
   ]
  },
  {
   "cell_type": "code",
   "execution_count": null,
   "metadata": {},
   "outputs": [],
   "source": [
    "df_farmacias.replace([\"SIN RECETARIO\", \"NOSELECCIONADO\"], np.nan)\n",
    "\n",
    "df_farmacias[\"tipo\"] = df_farmacias[\"tipo\"].astype(\"category\")\n",
    "\n",
    "df_farmacias[\"latitud\"] = df_farmacias[\"latitud\"].str.replace(\",\",\".\").str.rstrip(\".\").str.rstrip(\"°\")\n",
    "\n",
    "df_farmacias[\"longitud\"] = df_farmacias[\"longitud\"].str.replace(\",\",\".\").str.rstrip(\".\").str.rstrip(\"°\")\n",
    "\n",
    "df_farmacias[\"tipo_recetario\"] = df_farmacias[\"tipo_recetario\"].astype(\"category\")\n",
    "\n",
    "df_farmacias[\"alopática\"] = df_farmacias[\"alopática\"].map(lambda x: x == 'SI' or x == True)\n",
    "df_farmacias[\"alopática\"] = df_farmacias[\"alopática\"].astype(\"bool\")\n",
    "\n",
    "df_farmacias[\"homeopática\"] = df_farmacias[\"homeopática\"].map(lambda x: x == 'SI' or x == True)\n",
    "df_farmacias[\"homeopática\"] = df_farmacias[\"homeopática\"].astype(\"bool\")\n"
   ]
  },
  {
   "cell_type": "code",
   "execution_count": null,
   "metadata": {},
   "outputs": [],
   "source": [
    "nombre_comuna_a_codigo_comuna = {'ARICA': 15101, 'CAMARONES': 15102, 'PUTRE': 15201, 'GENERAL LAGOS': 15202, 'IQUIQUE': 1101, 'ALTO HOSPICIO': 1107, 'POZO ALMONTE': 1401, 'CAMIÑA': 1402, 'CAMINA': 1402, 'COLCHANE': 1403, 'HUARA': 1404, 'PICA': 1405, 'ANTOFAGASTA': 2101, 'MEJILLONES': 2102, 'SIERRA GORDA': 2103, 'TALTAL': 2104, 'CALAMA': 2201, 'OLLAGÜE': 2202, 'OLLAGUE': 2202, 'SAN PEDRO DE ATACAMA': 2203, 'TOCOPILLA': 2301, 'MARÍA ELENA': 2302, 'MARIA ELENA': 2302, 'COPIAPÓ': 3101, 'COPIAPO': 3101, 'CALDERA': 3102, 'TIERRA AMARILLA': 3103, 'CHAÑARAL': 3201, 'CHANARAL': 3201, 'DIEGO DE ALMAGRO': 3202, 'VALLENAR': 3301, 'ALTO DEL CARMEN': 3302, 'FREIRINA': 3303, 'HUASCO': 3304, 'LA SERENA': 4101, 'COQUIMBO': 4102, 'ANDACOLLO': 4103, 'LA HIGUERA': 4104, 'PAIGUANO': 4105, 'VICUÑA': 4106, 'VICUNA': 4106, 'ILLAPEL': 4201, 'CANELA': 4202, 'LOS VILOS': 4203, 'SALAMANCA': 4204, 'OVALLE': 4301, 'COMBARBALÁ': 4302, 'COMBARBALA': 4302, 'MONTE PATRIA': 4303, 'PUNITAQUI': 4304, 'RÍO HURTADO': 4305, 'RIO HURTADO': 4305, 'VALPARAÍSO': 5101, 'VALPARAISO': 5101, 'CASABLANCA': 5102, 'CONCÓN': 5103, 'CONCON': 5103, 'JUAN FERNÁNDEZ': 5104, 'JUAN FERNANDEZ': 5104, 'PUCHUNCAVÍ': 5105, 'PUCHUNCAVI': 5105, 'QUINTERO': 5107, 'VIÑA DEL MAR': 5109, 'VINA DEL MAR': 5109, 'ISLA DE PASCUA': 5201, 'LOS ANDES': 5301, 'CALLE LARGA': 5302, 'RINCONADA': 5303, 'SAN ESTEBAN': 5304, 'LA LIGUA': 5401, 'CABILDO': 5402, 'PAPUDO': 5403, 'PETORCA': 5404, 'ZAPALLAR': 5405, 'QUILLOTA': 5501, 'CALERA': 5502, 'LA CALERA': 5502, 'HIJUELAS': 5503, 'LA CRUZ': 5504, 'NOGALES': 5506, 'SAN ANTONIO': 5601, 'ALGARROBO': 5602, 'CARTAGENA': 5603, 'EL QUISCO': 5604, 'EL TABO': 5605, 'SANTO DOMINGO': 5606, 'SAN FELIPE': 5701, 'CATEMU': 5702, 'LLAILLAY': 5703, 'PANQUEHUE': 5704, 'PUTAENDO': 5705, 'SANTA MARÍA': 5706, 'SANTA MARIA': 5706, 'QUILPUÉ': 5801, 'QUILPUE': 5801, 'LIMACHE': 5802, 'OLMUÉ': 5803, 'OLMUE': 5803, 'VILLA ALEMANA': 5804, 'SANTIAGO': 13101, 'CERRILLOS': 13102, 'CERRO NAVIA': 13103, 'CONCHALÍ': 13104, 'CONCHALI': 13104, 'EL BOSQUE': 13105, 'ESTACIÓN CENTRAL': 13106, 'ESTACION CENTRAL': 13106, 'HUECHURABA': 13107, 'INDEPENDENCIA': 13108, 'LA CISTERNA': 13109, 'LA FLORIDA': 13110, 'LA GRANJA': 13111, 'LA PINTANA': 13112, 'LA REINA': 13113, 'LAS CONDES': 13114, 'LO BARNECHEA': 13115, 'LO ESPEJO': 13116, 'LO PRADO': 13117, 'MACUL': 13118, 'MAIPÚ': 13119, 'MAIPU': 13119, 'ÑUÑOA': 13120, 'NUNOA': 13120, 'PEDRO AGUIRRE CERDA': 13121, 'PEÑALOLÉN': 13122, 'PENALOLEN': 13122, 'PROVIDENCIA': 13123, 'PUDAHUEL': 13124, 'QUILICURA': 13125, 'QUINTA NORMAL': 13126, 'RECOLETA': 13127, 'RENCA': 13128, 'SAN JOAQUÍN': 13129, 'SAN JOAQUIN': 13129, 'SAN MIGUEL': 13130, 'SAN RAMÓN': 13131, 'SAN RAMON': 13131, 'VITACURA': 13132, 'PUENTE ALTO': 13201, 'PIRQUE': 13202, 'SAN JOSÉ DE MAIPO': 13203, 'SAN JOSE DE MAIPO': 13203, 'COLINA': 13301, 'LAMPA': 13302, 'TILTIL': 13303, 'TIL-TIL': 13303, 'SAN BERNARDO': 13401, 'BUIN': 13402, 'CALERA DE TANGO': 13403, 'PAINE': 13404, 'MELIPILLA': 13501, 'ALHUÉ': 13502, 'ALHUE': 13502, 'CURACAVÍ': 13503, 'CURACAVI': 13503, 'MARÍA PINTO': 13504, 'MARIA PINTO': 13504, 'SAN PEDRO': 13505, 'TALAGANTE': 13601, 'EL MONTE': 13602, 'ISLA DE MAIPO': 13603, 'PADRE HURTADO': 13604, 'PEÑAFLOR': 13605, 'PENAFLOR': 13605, 'RANCAGUA': 6101, 'CODEGUA': 6102, 'COINCO': 6103, 'COLTAUCO': 6104, 'DOÑIHUE': 6105, 'DONIHUE': 6105, 'GRANEROS': 6106, 'LAS CABRAS': 6107, 'MACHALÍ': 6108, 'MACHALI': 6108, 'MALLOA': 6109, 'MOSTAZAL': 6110, 'OLIVAR': 6111, 'PEUMO': 6112, 'PICHIDEGUA': 6113, 'QUINTA DE TILCOCO': 6114, 'RENGO': 6115, 'REQUÍNOA': 6116, 'REQUINOA': 6116, 'SAN VICENTE': 6117, 'PICHILEMU': 6201, 'LA ESTRELLA': 6202, 'LITUECHE': 6203, 'MARCHIHUE': 6204, 'NAVIDAD': 6205, 'PAREDONES': 6206, 'SAN FERNANDO': 6301, 'CHÉPICA': 6302, 'CHEPICA': 6302, 'CHIMBARONGO': 6303, 'LOLOL': 6304, 'NANCAGUA': 6305, 'PALMILLA': 6306, 'PERALILLO': 6307, 'PLACILLA': 6308, 'PUMANQUE': 6309, 'SANTA CRUZ': 6310, 'TALCA': 7101, 'CONSTITUCIÓN': 7102, 'CONSTITUCION': 7102, 'CUREPTO': 7103, 'EMPEDRADO': 7104, 'MAULE': 7105, 'PELARCO': 7106, 'PENCAHUE': 7107, 'RÍO CLARO': 7108, 'RIO CLARO': 7108, 'SAN CLEMENTE': 7109, 'SAN RAFAEL': 7110, 'CAUQUENES': 7201, 'CHANCO': 7202, 'PELLUHUE': 7203, 'CURICÓ': 7301, 'CURICO': 7301, 'HUALAÑÉ': 7302, 'HUALANE': 7302, 'LICANTÉN': 7303, 'LICANTEN': 7303, 'MOLINA': 7304, 'RAUCO': 7305, 'ROMERAL': 7306, 'SAGRADA FAMILIA': 7307, 'TENO': 7308, 'VICHUQUÉN': 7309, 'VICHUQUEN': 7309, 'LINARES': 7401, 'COLBÚN': 7402, 'COLBUN': 7402, 'LONGAVÍ': 7403, 'LONGAVI': 7403, 'PARRAL': 7404, 'RETIRO': 7405, 'SAN JAVIER': 7406, 'VILLA ALEGRE': 7407, 'YERBAS BUENAS': 7408, 'CONCEPCIÓN': 8101, 'CONCEPCION': 8101, 'CORONEL': 8102, 'CHIGUAYANTE': 8103, 'FLORIDA': 8104, 'HUALQUI': 8105, 'LOTA': 8106, 'PENCO': 8107, 'SAN PEDRO DE LA PAZ': 8108, 'SANTA JUANA': 8109, 'TALCAHUANO': 8110, 'TOMÉ': 8111, 'TOME': 8111, 'HUALPÉN': 8112, 'HUALPEN': 8112, 'LEBU': 8201, 'ARAUCO': 8202, 'CAÑETE': 8203, 'CANETE': 8203, 'CONTULMO': 8204, 'CURANILAHUE': 8205, 'LOS ÁLAMOS': 8206, 'LOS ALAMOS': 8206, 'TIRÚA': 8207, 'TIRUA': 8207, 'LOS ÁNGELES': 8301, 'LOS ANGELES': 8301, 'ANTUCO': 8302, 'CABRERO': 8303, 'LAJA': 8304, 'MULCHÉN': 8305, 'MULCHEN': 8305, 'NACIMIENTO': 8306, 'NEGRETE': 8307, 'QUILACO': 8308, 'QUILLECO': 8309, 'SAN ROSENDO': 8310, 'SANTA BÁRBARA': 8311, 'SANTA BARBARA': 8311, 'TUCAPEL': 8312, 'YUMBEL': 8313, 'ALTO BIOBÍO': 8314, 'ALTO BIOBIO': 8314, 'CHILLÁN': 16101, 'CHILLAN': 16101, 'BULNES': 16102, 'COBQUECURA': 16202, 'COELEMU': 16203, 'COIHUECO': 16302, 'CHILLÁN VIEJO': 16103, 'CHILLAN VIEJO': 16103, 'EL CARMEN': 16104, 'NINHUE': 16204, 'ÑIQUÉN': 16303, 'NIQUEN': 16303, 'PEMUCO': 16105, 'PINTO': 16106, 'PORTEZUELO': 16205, 'QUILLÓN': 16107, 'QUILLON': 16107, 'QUIRIHUE': 16201, 'RÁNQUIL': 16206, 'RANQUIL': 16206, 'SAN CARLOS': 16301, 'SAN FABIÁN': 16304, 'SAN FABIAN': 16304, 'SAN IGNACIO': 16108, 'SAN NICOLÁS': 16305, 'SAN NICOLAS': 16305, 'TREGUACO': 16207, 'YUNGAY': 16109, 'TEMUCO': 9101, 'CARAHUE': 9102, 'CUNCO': 9103, 'CURARREHUE': 9104, 'FREIRE': 9105, 'GALVARINO': 9106, 'GORBEA': 9107, 'LAUTARO': 9108, 'LONCOCHE': 9109, 'MELIPEUCO': 9110, 'NUEVA IMPERIAL': 9111, 'PADRE LAS CASAS': 9112, 'PERQUENCO': 9113, 'PITRUFQUÉN': 9114, 'PITRUFQUEN': 9114, 'PUCÓN': 9115, 'PUCON': 9115, 'SAAVEDRA': 9116, 'TEODORO SCHMIDT': 9117, 'TOLTÉN': 9118, 'TOLTEN': 9118, 'VILCÚN': 9119, 'VILCUN': 9119, 'VILLARRICA': 9120, 'CHOLCHOL': 9121, 'ANGOL': 9201, 'COLLIPULLI': 9202, 'CURACAUTÍN': 9203, 'CURACAUTIN': 9203, 'ERCILLA': 9204, 'LONQUIMAY': 9205, 'LOS SAUCES': 9206, 'LUMACO': 9207, 'PURÉN': 9208, 'PUREN': 9208, 'RENAICO': 9209, 'TRAIGUÉN': 9210, 'TRAIGUEN': 9210, 'VICTORIA': 9211, 'VALDIVIA': 14101, 'CORRAL': 14102, 'LANCO': 14103, 'LOS LAGOS': 14104, 'MÁFIL': 14105, 'MAFIL': 14105, 'MARIQUINA': 14106, 'PAILLACO': 14107, 'PANGUIPULLI': 14108, 'LA UNIÓN': 14201, 'LA UNION': 14201, 'FUTRONO': 14202, 'LAGO RANCO': 14203, 'RÍO BUENO': 14204, 'RIO BUENO': 14204, 'PUERTO MONTT': 10101, 'CALBUCO': 10102, 'COCHAMÓ': 10103, 'COCHAMO': 10103, 'FRESIA': 10104, 'FRUTILLAR': 10105, 'LOS MUERMOS': 10106, 'LLANQUIHUE': 10107, 'MAULLÍN': 10108, 'MAULLIN': 10108, 'PUERTO VARAS': 10109, 'CASTRO': 10201, 'ANCUD': 10202, 'CHONCHI': 10203, 'CURACO DE VÉLEZ': 10204, 'CURACO DE VELEZ': 10204, 'DALCAHUE': 10205, 'PUQUELDÓN': 10206, 'PUQUELDON': 10206, 'QUEILÉN': 10207, 'QUEILEN': 10207, 'QUELLÓN': 10208, 'QUELLON': 10208, 'QUEMCHI': 10209, 'QUINCHAO': 10210, 'OSORNO': 10301, 'PUERTO OCTAY': 10302, 'PURRANQUE': 10303, 'PUYEHUE': 10304, 'RÍO NEGRO': 10305, 'RIO NEGRO': 10305, 'SAN JUAN DE LA COSTA': 10306, 'SAN PABLO': 10307, 'CHAITÉN': 10401, 'CHAITEN': 10401, 'FUTALEUFÚ': 10402, 'FUTALEUFU': 10402, 'HUALAIHUÉ': 10403, 'HUALAIHUE': 10403, 'PALENA': 10404, 'COYHAIQUE': 11101, 'LAGO VERDE': 11102, 'AYSÉN': 11201, 'AYSEN': 11201, 'CISNES': 11202, 'GUAITECAS': 11203, 'COCHRANE': 11301, \"O'HIGGINS\": 11302, 'TORTEL': 11303, 'CHILE CHICO': 11401, 'RÍO IBÁÑEZ': 11402, 'RIO IBANEZ': 11402, 'PUNTA ARENAS': 12101, 'LAGUNA BLANCA': 12102, 'RÍO VERDE': 12103, 'RIO VERDE': 12103, 'SAN GREGORIO': 12104, 'CABO DE HORNOS': 12201, 'ANTÁRTICA': 12202, 'ANTARTICA': 12202, 'PORVENIR': 12301, 'PRIMAVERA': 12302, 'TIMAUKEL': 12303, 'NATALES': 12401, 'TORRES DEL PAINE': 12402, 'SAN FRANCISCO DE MOSTAZAL': 6110, 'ALTO BIO BIO': 8314, 'PUERTO NATALES': 12401, 'LLAY LLAY': 5703, 'MARCHIGUE': 6204, 'CHOL CHOL': 9121, 'PAIHUANO': 4105}"
   ]
  },
  {
   "cell_type": "code",
   "execution_count": null,
   "metadata": {},
   "outputs": [],
   "source": [
    "df_farmacias.loc[:,\"código_comuna\"] = df_farmacias.loc[:,\"comuna\"].str.replace(\"Ñ\", \"N\").map(nombre_comuna_a_codigo_comuna)\n",
    "df_farmacias.loc[:,\"código_provincia\"] = df_farmacias.loc[:,\"código_comuna\"].map(codigo_comuna_a_provincia)\n",
    "df_farmacias.loc[:,\"código_región\"] = df_farmacias.loc[:,\"código_comuna\"].map(codigo_comuna_a_region)\n",
    "\n",
    "df_farmacias.dropna(subset=\"comuna\", inplace=True)\n",
    "df_farmacias[\"código_comuna\"] = df_farmacias[\"código_comuna\"].astype(\"int\")"
   ]
  },
  {
   "cell_type": "code",
   "execution_count": null,
   "metadata": {},
   "outputs": [],
   "source": [
    "df_farmacias[\"latitud\"] = pd.to_numeric(df_farmacias['latitud'], errors='coerce')\n",
    "df_farmacias[\"longitud\"] = pd.to_numeric(df_farmacias['longitud'], errors='coerce')"
   ]
  },
  {
   "cell_type": "code",
   "execution_count": null,
   "metadata": {},
   "outputs": [],
   "source": [
    "df_farmacias.info()"
   ]
  },
  {
   "cell_type": "code",
   "execution_count": null,
   "metadata": {},
   "outputs": [],
   "source": [
    "df_hospitales"
   ]
  },
  {
   "cell_type": "code",
   "execution_count": null,
   "metadata": {},
   "outputs": [],
   "source": [
    "df_farmacias"
   ]
  },
  {
   "cell_type": "markdown",
   "metadata": {},
   "source": [
    "# Pregunta 4\n",
    "### ¿Cuál es la distancia promedio entre los centros de salud y zonas pobladas?\n"
   ]
  },
  {
   "cell_type": "code",
   "execution_count": null,
   "metadata": {},
   "outputs": [],
   "source": [
    "#abrimos el shapefile de areas pobladas obtemido de \"https://www.bcn.cl/obtienearchivo?id=repositorio/10221/10405/2/Areas_Pobladas.zip\"\n",
    "areas_pobladas = gpd.read_file('../database/DatosGeograficos/Areas_Pobladas.shp', engine=\"fiona\", crs='')\n",
    "areas_pobladas['geometry'] = areas_pobladas['geometry'].to_crs(5360)"
   ]
  },
  {
   "cell_type": "markdown",
   "metadata": {},
   "source": [
    "Este archivo de areas pobladas proviene de la biblioteca del congreso nacional de chile y contiene la figura de cada una de las areas que se consideran pobladas\n",
    "en el territorio chileno, esto no contien lo que el INE clasifica como caserios, la division mas pequeña que se maneja en este archivo es \"aldea\". Justamente estas 'aldeas' que estan en el archivo\n",
    "son los lugares donde nos queremos concentrar para lograr encontrar que tan lejos estan de centros de salud de baja, media y alta complejidad.\n",
    "\n",
    "A continuacion se detalla el limpiamiento de los datos y una breve exploración ya que al trabajar con datos geoespaciales medidas de exploración como promedio y desviación estandar nos son de poca utilidad.\n",
    "Asumiremos el centroide de cada localidad como el punto de referencia para medir distancia hacia los establecimientos de salud, mas adelante iremos descartando localidades que tengan centros de salud dentro de ellas segun necesitemos en cada caso."
   ]
  },
  {
   "cell_type": "code",
   "execution_count": null,
   "metadata": {},
   "outputs": [],
   "source": [
    "#calculamos el centroide de cada figura\n",
    "areas_pobladas[\"centroide\"] = areas_pobladas[\"geometry\"].centroid"
   ]
  },
  {
   "cell_type": "code",
   "execution_count": null,
   "metadata": {
    "scrolled": true
   },
   "outputs": [],
   "source": [
    "#separamos la latitud y longitud en dos coluumnas para poder hacer masfacilmente la resta entre\n",
    "#los hospitales y las areas pobladas ya que el dataframe de los hospitales contiene la ubicacion en dos columnas separadas\n",
    "\n",
    "areas_pobladas['lat'] = areas_pobladas.centroide.y\n",
    "areas_pobladas['long'] = areas_pobladas.centroide.x"
   ]
  },
  {
   "cell_type": "markdown",
   "metadata": {},
   "source": [
    "Ahora que tenemos lo datos necesarios para contestar la pregunta 4 creados, procederos a limpiar la base de datos de hospitales.\n",
    "Primero eliminaremos las filas que no tengan datos en latitud o longitud ya que sin las coordenadas no se podra responder la pregunta."
   ]
  },
  {
   "cell_type": "code",
   "execution_count": null,
   "metadata": {},
   "outputs": [],
   "source": [
    "df_hospitales_P4 = df_hospitales.dropna(subset=['latitud', 'longitud', 'nivel_de_complejidad'])"
   ]
  },
  {
   "cell_type": "code",
   "execution_count": null,
   "metadata": {
    "scrolled": true
   },
   "outputs": [],
   "source": [
    "#pasamos el dataframe de hospitales a un geodaframe para poder hacer uso de los metodos que se incluyen en geopandas\n",
    "gdf_hospitales = gpd.GeoDataFrame(\n",
    "    df_hospitales_P4, geometry=gpd.points_from_xy(df_hospitales_P4.longitud, df_hospitales_P4.latitud), crs=\"EPSG:5360\"\n",
    ")"
   ]
  },
  {
   "cell_type": "code",
   "execution_count": null,
   "metadata": {
    "scrolled": true
   },
   "outputs": [],
   "source": [
    "#creamos un diccionario que cotiene los hospitales de cada región, y estos ademas separados por complejidad.\n",
    "centros_de_salud_por_region = {}\n",
    "for region in gdf_hospitales.código_región.unique():\n",
    "    centros_de_salud_por_complejidad = {}\n",
    "    for complejidad in gdf_hospitales[gdf_hospitales['código_región'] == region].nivel_de_complejidad.unique():\n",
    "        mask = ((gdf_hospitales['código_región'] == region) & (gdf_hospitales['nivel_de_complejidad'] == complejidad))\n",
    "        centros_de_salud_por_complejidad[complejidad] = gdf_hospitales[mask]\n",
    "    centros_de_salud_por_region[region] = centros_de_salud_por_complejidad"
   ]
  },
  {
   "cell_type": "code",
   "execution_count": null,
   "metadata": {},
   "outputs": [],
   "source": [
    "comunas = gpd.read_file('../database/DatosGeograficos/comunas.shp', engine=\"fiona\", crs='')\n",
    "comunas.rename(columns={'codregion': 'código_región', 'Region': 'nombre_región', 'Comuna': 'comuna'}, inplace=True)\n",
    "comunas['geometry'] = comunas['geometry'].to_crs(5360)"
   ]
  },
  {
   "cell_type": "code",
   "execution_count": null,
   "metadata": {},
   "outputs": [],
   "source": [
    "comunas"
   ]
  },
  {
   "cell_type": "code",
   "execution_count": null,
   "metadata": {},
   "outputs": [],
   "source": [
    "areas_pobladas_expandido = pd.merge(areas_pobladas, comunas, how='outer', on='comuna')"
   ]
  },
  {
   "cell_type": "code",
   "execution_count": null,
   "metadata": {
    "scrolled": true
   },
   "outputs": [],
   "source": [
    "#comunas del archivo de areas pobladas que no fueron asignadas a comunas de comunas. AKA 'comunas sin región'\n",
    "for name in areas_pobladas_expandido[areas_pobladas_expandido['nombre_región'].isna()]['comuna'].unique():\n",
    "    print(name)"
   ]
  },
  {
   "cell_type": "code",
   "execution_count": null,
   "metadata": {},
   "outputs": [],
   "source": [
    "#nombres correctos para que merge funcione con todas las comunas que tienen areas pobladas\n",
    "nuevos_nombres = {'Tirua': 'Tirúa',\n",
    "                  'Quillaco': 'Quilaco',\n",
    "                  'Requinoa': 'Requínoa',\n",
    "                  'Mulchen': 'Mulchén',\n",
    "                  'Santa Barbara': 'Santa Bárbara',\n",
    "                  'Puren': 'Purén',\n",
    "                  'Tolten': 'Toltén',\n",
    "                  'Padre de Las Casas': 'Padre Las Casas',\n",
    "                  'Quellon': 'Quellón',\n",
    "                  'Chaiten': 'Chaitén',\n",
    "                  'Mafil': 'Máfil',\n",
    "                  'PUCHUNCAVI': 'Puchuncaví',\n",
    "                  'Quilpue ': 'Quilpué',\n",
    "                  'La Calera': 'Calera',\n",
    "                  'Cabo de HOrnos': 'Cabo de Hornos',\n",
    "                  'Machali': 'Machalí',\n",
    "                  'Maríe Elena': 'María Elena',\n",
    "                  'Longavi': 'Longaví',\n",
    "                  'Licanten': 'Licantén',\n",
    "                  'Futaleufu': 'Futaleufú',\n",
    "                  'Río Ibañez': 'Río Ibáñez',\n",
    "                  'Curacavi': 'Curacaví',\n",
    "                  'PUENTE ALTO': 'Puente Alto',\n",
    "                  'Maullin': 'Maullín',\n",
    "                  'Rio Bueno': 'Río Bueno',\n",
    "                  'Coihaique': 'Coyhaique',\n",
    "                  'Chillan Viejo': 'Chillán Viejo',\n",
    "                  'Chillan': 'Chillán',\n",
    "                  'Mellipeuco': 'Melipeuco',\n",
    "                  'Curacautin': 'Curacautín',\n",
    "                  'Traiguen': 'Traiguén',\n",
    "                  'San Nicolas': 'San Nicolás',\n",
    "                  'Teodoro Schimidt': 'Teodoro Schmidt',\n",
    "                  'Las Cruces': 'El Tabo',\n",
    "                  'Dichato': 'Tomé',\n",
    "                  'Ranco': 'Lago Ranco',\n",
    "                  'San Juan de La Costa': 'San Juan de la Costa',\n",
    "                  'Los Ángeles': 'Los Angeles',\n",
    "                  'Tiltíl': 'Tiltil',\n",
    "                  'Curaco': 'Curaco de Vélez',\n",
    "                  'O´Higgins': 'O\\'Higgins',\n",
    "                  'Olmue': 'Olmué',\n",
    "                  'Ranquíl': 'Ranquil'}"
   ]
  },
  {
   "cell_type": "code",
   "execution_count": null,
   "metadata": {},
   "outputs": [],
   "source": [
    "#Ahora arreglaremos los nombres de las comunas que quedaron sin region, en el dataframe ed areas pobladas\n",
    "areas_pobladas['comuna'] = areas_pobladas['comuna'].map(nuevos_nombres).fillna(areas_pobladas['comuna'])"
   ]
  },
  {
   "cell_type": "code",
   "execution_count": null,
   "metadata": {},
   "outputs": [],
   "source": [
    "areas_pobladas_expandido = pd.merge(areas_pobladas, comunas, how='outer', on='comuna')"
   ]
  },
  {
   "cell_type": "code",
   "execution_count": null,
   "metadata": {
    "scrolled": true
   },
   "outputs": [],
   "source": [
    "areas_pobladas_expandido[areas_pobladas_expandido['nombre_región'].isna()]#Por alguna razón quilpué no se mapea bien, este caso lo asignaremos a mano."
   ]
  },
  {
   "cell_type": "code",
   "execution_count": null,
   "metadata": {},
   "outputs": [],
   "source": [
    "#visualizamos los datos que faltan para qulpué\n",
    "comunas[comunas['Provincia']=='Marga Marga']"
   ]
  },
  {
   "cell_type": "code",
   "execution_count": null,
   "metadata": {},
   "outputs": [],
   "source": [
    "#asignamos manualmente los datos que van en las columnas que flataban despues del merge\n",
    "areas_pobladas_expandido.at[349,'nombre_región'] = 'Región de Valparaíso'\n",
    "areas_pobladas_expandido.at[349,'código_región'] = 5"
   ]
  },
  {
   "cell_type": "code",
   "execution_count": null,
   "metadata": {},
   "outputs": [],
   "source": [
    "areas_pobladas_expandido[areas_pobladas_expandido['nombre_región'].isna()]#todas las comunas en el merge ahora estan asignadas correctamente"
   ]
  },
  {
   "cell_type": "code",
   "execution_count": null,
   "metadata": {},
   "outputs": [],
   "source": [
    "comunas[comunas['comuna']=='Las Condes']"
   ]
  },
  {
   "cell_type": "code",
   "execution_count": null,
   "metadata": {},
   "outputs": [],
   "source": [
    "#Guardamos los datos de las areas pobladas por región\n",
    "areas_pobladas_por_region = {}\n",
    "for region in areas_pobladas_expandido.código_región.unique():\n",
    "    areas_pobladas_por_region[int(region)] = areas_pobladas_expandido[areas_pobladas_expandido['código_región']==region]"
   ]
  },
  {
   "cell_type": "markdown",
   "metadata": {},
   "source": [
    "Ahora que tenemos dos diccionarios, uno de hospitaels y otro de areas pobladas por región procederemos a usar clustering por densidad para buscar en cada región cuales areas pobladas quedan como puntoscde ruido, lo que correspondería a areas pobladas que estan mas lejos de lo óptimo a un cesntro de salud. Adicionalmente se haran 3 modelos para cada región donde se visualizaran los clusters usando centros de complejidad baja, media y alta."
   ]
  },
  {
   "cell_type": "code",
   "execution_count": null,
   "metadata": {
    "scrolled": true
   },
   "outputs": [],
   "source": [
    "import geopandas as gpd\n",
    "from sklearn.cluster import DBSCAN\n",
    "import matplotlib.pyplot as plt\n",
    "\n",
    "\n",
    "# Extract relevant columns for clustering from gdf_hospitales\n",
    "hospitals_data = gdf_hospitales[['latitud', 'longitud']].values\n",
    "\n",
    "# Apply DBSCAN Clustering to hospitals\n",
    "eps = 0.11  # Adjust epsilon based on your data and desired cluster density\n",
    "min_samples = 3\n",
    "dbscan = DBSCAN(eps=eps, min_samples=min_samples)\n",
    "gdf_hospitales['Cluster'] = dbscan.fit_predict(hospitals_data)\n"
   ]
  },
  {
   "cell_type": "code",
   "execution_count": null,
   "metadata": {
    "scrolled": true
   },
   "outputs": [],
   "source": [
    "for i in range(1,17):\n",
    "    gdf_selected_region = comunas[comunas['código_región'] == i]\n",
    "    gdf_selected_region_hospitals = gdf_hospitales[gdf_hospitales['código_región'] == i]\n",
    "    \n",
    "    overlay = gdf_selected_region.overlay(gdf_selected_region_hospitals, how=\"union\", keep_geom_type=False)\n",
    "    \n",
    "    overlay['Cluster'] = overlay['Cluster'].fillna(-2)\n",
    "    fig, ax = plt.subplots((1), figsize=[20,20])\n",
    "    ax.set_title(f'region {i}')\n",
    "    overlay.plot(cmap=\"rainbow\", column=\"Cluster\", ax=ax)"
   ]
  },
  {
   "cell_type": "markdown",
   "metadata": {},
   "source": [
    "'Accent', 'Accent_r', 'Blues', 'Blues_r', 'BrBG', 'BrBG_r', 'BuGn', 'BuGn_r', 'BuPu', 'BuPu_r', 'CMRmap', 'CMRmap_r', 'Dark2', 'Dark2_r', 'GnBu', 'GnBu_r', 'Greens', 'Greens_r', 'Greys', 'Greys_r', 'OrRd', 'OrRd_r', 'Oranges', 'Oranges_r', 'PRGn', 'PRGn_r', 'Paired', 'Paired_r', 'Pastel1', 'Pastel1_r', 'Pastel2', 'Pastel2_r', 'PiYG', 'PiYG_r', 'PuBu', 'PuBuGn', 'PuBuGn_r', 'PuBu_r', 'PuOr', 'PuOr_r', 'PuRd', 'PuRd_r', 'Purples', 'Purples_r', 'RdBu', 'RdBu_r', 'RdGy', 'RdGy_r', 'RdPu', 'RdPu_r', 'RdYlBu', 'RdYlBu_r', 'RdYlGn', 'RdYlGn_r', 'Reds', 'Reds_r', 'Set1', 'Set1_r', 'Set2', 'Set2_r', 'Set3', 'Set3_r', 'Spectral', 'Spectral_r', 'Wistia', 'Wistia_r', 'YlGn', 'YlGnBu', 'YlGnBu_r', 'YlGn_r', 'YlOrBr', 'YlOrBr_r', 'YlOrRd', 'YlOrRd_r', 'afmhot', 'afmhot_r', 'autumn', 'autumn_r', 'binary', 'binary_r', 'bone', 'bone_r', 'brg', 'brg_r', 'bwr', 'bwr_r', 'cividis', 'cividis_r', 'cool', 'cool_r', 'coolwarm', 'coolwarm_r', 'copper', 'copper_r', 'crest', 'crest_r', 'cubehelix', 'cubehelix_r', 'flag', 'flag_r', 'flare', 'flare_r', 'gist_earth', 'gist_earth_r', 'gist_gray', 'gist_gray_r', 'gist_heat', 'gist_heat_r', 'gist_ncar', 'gist_ncar_r', 'gist_rainbow', 'gist_rainbow_r', 'gist_stern', 'gist_stern_r', 'gist_yarg', 'gist_yarg_r', 'gnuplot', 'gnuplot2', 'gnuplot2_r', 'gnuplot_r', 'gray', 'gray_r', 'hot', 'hot_r', 'hsv', 'hsv_r', 'icefire', 'icefire_r', 'inferno', 'inferno_r', 'jet', 'jet_r', 'magma', 'magma_r', 'mako', 'mako_r', 'nipy_spectral', 'nipy_spectral_r', 'ocean', 'ocean_r', 'pink', 'pink_r', 'plasma', 'plasma_r', 'prism', 'prism_r', 'rainbow', 'rainbow_r', 'rocket', 'rocket_r', 'seismic', 'seismic_r', 'spring', 'spring_r', 'summer', 'summer_r', 'tab10', 'tab10_r', 'tab20', 'tab20_r', 'tab20b', 'tab20b_r', 'tab20c', 'tab20c_r', 'terrain', 'terrain_r', 'turbo', 'turbo_r', 'twilight', 'twilight_r', 'twilight_shifted', 'twilight_shifted_r', 'viridis', 'viridis_r', 'vlag', 'vlag_r', 'winter', 'winter_r'"
   ]
  },
  {
   "cell_type": "code",
   "execution_count": null,
   "metadata": {},
   "outputs": [],
   "source": [
    "gdf_hospitales.head(1)"
   ]
  },
  {
   "cell_type": "code",
   "execution_count": null,
   "metadata": {
    "scrolled": true
   },
   "outputs": [],
   "source": [
    "for i in gdf_hospitales['Cluster'].unique():\n",
    "    cluster = gdf_hospitales[gdf_hospitales['Cluster'] == i]\n",
    "    print(f\"El cluster {i} tiene centros de salud de complejidades {cluster['nivel_de_complejidad'].unique()}\")\n",
    "    print()"
   ]
  },
  {
   "cell_type": "code",
   "execution_count": null,
   "metadata": {},
   "outputs": [],
   "source": [
    "for i in gdf_hospitales['Cluster'].unique():\n",
    "    cluster = gdf_hospitales[gdf_hospitales['Cluster'] == i]\n",
    "    print(f\"El cluster {i} abarca las comunas {cluster['nombre_comuna'].unique()}\")\n",
    "    print()"
   ]
  },
  {
   "cell_type": "code",
   "execution_count": null,
   "metadata": {},
   "outputs": [],
   "source": []
  }
 ],
 "metadata": {
  "kernelspec": {
   "display_name": "Python 3 (ipykernel)",
   "language": "python",
   "name": "python3"
  },
  "language_info": {
   "codemirror_mode": {
    "name": "ipython",
    "version": 3
   },
   "file_extension": ".py",
   "mimetype": "text/x-python",
   "name": "python",
   "nbconvert_exporter": "python",
   "pygments_lexer": "ipython3",
   "version": "3.8.10"
  }
 },
 "nbformat": 4,
 "nbformat_minor": 4
}
